{
 "cells": [
  {
   "cell_type": "markdown",
   "metadata": {},
   "source": [
    "## Handwritten Digit Recognition using a Convolutional Neural Network\n",
    "\n",
    "This tutorial shows you how to design a deep convolutional neural network for a classic computer vision application: identify hand-written digits.\n",
    "\n",
    "We are going to use MNIST dataset for training, validation and our convolutional neural network model.\n"
   ]
  },
  {
   "cell_type": "code",
   "execution_count": 10,
   "metadata": {
    "collapsed": true
   },
   "outputs": [],
   "source": [
    "import numpy as np\n",
    "import timeit\n",
    "import aurora as au # import Aurora \n",
    "import aurora.autodiff as ad # importing Aurora's automatic differentiation framework \n",
    "import matplotlib.pyplot as plt\n",
    "import seaborn as sbn\n",
    "sbn.set()\n",
    "\n",
    "BATCH_SIZE = 64\n",
    "LR = 1e-4\n",
    "USE_GPU = False\n",
    "NUM_ITERS = 20\n",
    "\n",
    "# utility functions\n",
    "def display_images(image_dataset, n_rows, n_cols, graph_title='Sample Training Images'):\n",
    "    '''\n",
    "    Simple utility function for displaying images.\n",
    "    '''\n",
    "    plt.figure(figsize=(7, 5))\n",
    "    image_number = 1\n",
    "    for row in range(n_rows):\n",
    "        for col in range(n_cols):\n",
    "            plt.subplot(n_rows, n_cols, image_number)\n",
    "            plt.imshow(image_dataset[image_number-1, :], cmap='Greys_r') \n",
    "            plt.axis('off')\n",
    "            image_number += 1\n",
    "    plt.suptitle(graph_title)\n",
    "    plt.show()\n",
    "    \n",
    "def measure_accuracy(activation, X_val, y_val, batch_size=32, use_gpu=USE_GPU):\n",
    "    executor = ad.Executor([activation], use_gpu=use_gpu)\n",
    "\n",
    "    max_val = len(X_val) - len(X_val) % batch_size\n",
    "    y_val = y_val[0:max_val]\n",
    "\n",
    "    prediction = np.zeros(max_val)\n",
    "    for i in range(0, max_val, batch_size):\n",
    "        start = i\n",
    "        end = i + batch_size\n",
    "\n",
    "        X_batch, y_batch = X_val[start:end], y_val[start:end]\n",
    "        prob_val, = executor.run(feed_shapes={images: X_batch})\n",
    "\n",
    "        if use_gpu:\n",
    "            prob_val = prob_val.asnumpy()\n",
    "        prediction[start:end] = np.argmax(prob_val, axis=1)\n",
    "\n",
    "    correct = np.sum(np.equal(y_val, prediction))\n",
    "    percentage = (correct / len(prediction)) * 100.00\n",
    "    return percentage"
   ]
  },
  {
   "cell_type": "markdown",
   "metadata": {},
   "source": [
    "### Let's Explore the Dataset\n",
    "\n",
    "The original MNIST dataset consists of 60000 training and 10000 validation images. In our implementation, we use 10000 out of 60000 images as our validation set.\n",
    "\n",
    "So let's plot some sample images."
   ]
  },
  {
   "cell_type": "code",
   "execution_count": 9,
   "metadata": {},
   "outputs": [
    {
     "data": {
      "image/png": "[encoded data removed]",
      "text/plain": [
       "<matplotlib.figure.Figure at 0x2625c909198>"
      ]
     },
     "metadata": {},
     "output_type": "display_data"
    }
   ],
   "source": [
    "data = au.datasets.MNIST(batch_size=BATCH_SIZE)\n",
    "batch_generator = data.train_batch_generator()\n",
    "batch = next(batch_generator)\n",
    "\n",
    "sample = batch[0][0:15, :]\n",
    "display_images(sample.reshape(-1, 28, 28), 3, 5)"
   ]
  },
  {
   "cell_type": "markdown",
   "metadata": {},
   "source": [
    "### Building the Computational Graph\n",
    "\n",
    "**Aurora** uses dataflow graph approach to define neural networks. So following cell defines our simple convolutional neural network which we going to train in the next cell. "
   ]
  },
  {
   "cell_type": "code",
   "execution_count": 4,
   "metadata": {
    "collapsed": true
   },
   "outputs": [],
   "source": [
    "def build_network(image, y, batch_size=32):\n",
    "    rand = np.random.RandomState(seed=1024)\n",
    "\n",
    "    reshaped_images = ad.reshape(image, newshape=(batch_size, 1, 28, 28))\n",
    "\n",
    "    # weight in (number_kernels, color_depth, kernel_height, kernel_width)\n",
    "    W1 = ad.Parameter(name='W1', init=rand.normal(scale=0.1, size=(10, 1, 5, 5)))\n",
    "    b1 = ad.Parameter(name='b1', init=rand.normal(scale=0.1, size=10))\n",
    "    conv1 = au.nn.conv2d(input=reshaped_images, filter=W1, bias=b1)\n",
    "    activation1 = au.nn.relu(conv1)\n",
    "    # size of activation1: batch_size x 10 x 24 x 24\n",
    "\n",
    "    # weight in (number_kernels, number_kernels of previous layer, kernel_height, kernel_width)\n",
    "    W2 = ad.Parameter(name='W2', init=rand.normal(scale=0.1, size=(5, 10, 5, 5)))\n",
    "    b2 = ad.Parameter(name='b2', init=rand.normal(scale=0.1, size=5))\n",
    "    conv2 = au.nn.conv2d(input=activation1, filter=W2, bias=b2)\n",
    "    activation2 = au.nn.relu(conv2)\n",
    "    # size of activation2: batch_size x 5 x 20 x 20 = batch_size x 2000\n",
    "\n",
    "    flatten = ad.reshape(activation2, newshape=(batch_size, 2000))\n",
    "\n",
    "    W3 = ad.Parameter(name='W3', init=rand.normal(scale=0.1, size=(2000, 500)))\n",
    "    b3 = ad.Parameter(name='b3', init=rand.normal(scale=0.1, size=500))\n",
    "    Z3 = ad.matmul(flatten, W3)\n",
    "    Z3 = Z3 + ad.broadcast_to(b3, Z3)\n",
    "    activation3 = au.nn.relu(Z3)\n",
    "\n",
    "    W4 = ad.Parameter(name='W4', init=rand.normal(scale=0.1, size=(500, 10)))\n",
    "    b4 = ad.Parameter(name='b4', init=rand.normal(scale=0.1, size=10))\n",
    "    logits = ad.matmul(activation3, W4)\n",
    "    logits = logits + ad.broadcast_to(b4, logits)\n",
    "    loss = au.nn.cross_entropy_with_logits(logits, y)\n",
    "\n",
    "    return loss, W1, b1, W2, b2, W3, b3, W4, b4, logits"
   ]
  },
  {
   "cell_type": "markdown",
   "metadata": {},
   "source": [
    "### Training Our Model\n",
    "\n",
    "\n",
    "OK, now we defined our model using Aurora. Now its time to train our model. For training, we use Adam optimizer. "
   ]
  },
  {
   "cell_type": "code",
   "execution_count": null,
   "metadata": {
    "collapsed": true
   },
   "outputs": [],
   "source": [
    "n_iter = NUM_ITERS\n",
    "start = timeit.default_timer()\n",
    "\n",
    "data = au.datasets.MNIST(batch_size=BATCH_SIZE)\n",
    "batch_generator = data.train_batch_generator()\n",
    "\n",
    "# images in (batch_size, color_depth, height, width)\n",
    "images = ad.Variable(name='images')\n",
    "labels = ad.Variable(name='y')\n",
    "\n",
    "loss, W1, b1, W2, b2, W3, b3, W4, b4, logits = build_network(images, labels, batch_size=64)\n",
    "opt_params = [W1, b1, W2, b2, W3, b3, W4, b4]\n",
    "optimizer = au.optim.Adam(loss, params=opt_params, lr=1e-4, use_gpu=USE_GPU)\n",
    "\n",
    "training_errors = []\n",
    "validation_erros = []\n",
    "\n",
    "for i in range(n_iter):\n",
    "    X_batch, y_batch = next(batch_generator)\n",
    "    loss_now = optimizer.step(feed_dict={images: X_batch, labels: y_batch})\n",
    "    if i <= 10 or (i <= 100 and i % 10 == 0) or (i <= 1000 and i % 100 == 0) or (i <= 10000 and i % 500 == 0):\n",
    "        fmt_str = 'iter: {0:>5d} cost: {1:>8.5f}'\n",
    "        print(fmt_str.format(i, loss_now[0]))\n",
    "        \n",
    "    if i % 10 == 0:\n",
    "        train_acc = measure_accuracy(logits, X_batch, np.argmax(y_batch, axis=1), \n",
    "                                     batch_size=BATCH_SIZE, use_gpu=USE_GPU)\n",
    "        training_errors.append((100.0 - train_acc))\n",
    "        \n",
    "        X_valid, y_valid = data.validation()\n",
    "        valid_acc = measure_accuracy(logits, X_valid[0:BATCH_SIZE], y_valid[0:BATCH_SIZE],  \n",
    "                                     batch_size=BATCH_SIZE, use_gpu=USE_GPU)\n",
    "        validation_erros.append((100.0 - valid_acc))"
   ]
  },
  {
   "cell_type": "markdown",
   "metadata": {},
   "source": [
    "### Reporting Testing Accuracy and Plotting Training/Validation Errors"
   ]
  },
  {
   "cell_type": "code",
   "execution_count": 5,
   "metadata": {},
   "outputs": [
    {
     "name": "stdout",
     "output_type": "stream",
     "text": [
      "Validation accuracy: 97.23\n"
     ]
    }
   ],
   "source": [
    "X_valid, y_valid = data.validation()\n",
    "val_acc = measure_accuracy(logits, X_valid, y_valid, batch_size=BATCH_SIZE, use_gpu=USE_GPU)\n",
    "print('Validation accuracy: {:>.2f}'.format(val_acc))"
   ]
  },
  {
   "cell_type": "code",
   "execution_count": 6,
   "metadata": {},
   "outputs": [
    {
     "name": "stdout",
     "output_type": "stream",
     "text": [
      "Testing accuracy: 97.11\n"
     ]
    }
   ],
   "source": [
    "X_test, y_test = data.testing()\n",
    "test_acc = measure_accuracy(logits, X_test, y_test, batch_size=BATCH_SIZE, use_gpu=USE_GPU)\n",
    "print('Testing accuracy: {:>.2f}'.format(test_acc))"
   ]
  },
  {
   "cell_type": "code",
   "execution_count": 7,
   "metadata": {},
   "outputs": [
    {
     "data": {
      "image/png": "[encoded data removed]",
      "text/plain": [
       "<matplotlib.figure.Figure at 0x2625c934080>"
      ]
     },
     "metadata": {},
     "output_type": "display_data"
    }
   ],
   "source": [
    "plt.plot(validation_erros, color='r', label='validation error')\n",
    "plt.plot(training_errors, color='b', label='training error')\n",
    "plt.legend()\n",
    "plt.show()"
   ]
  },
  {
   "cell_type": "code",
   "execution_count": null,
   "metadata": {
    "collapsed": true
   },
   "outputs": [],
   "source": []
  }
 ],
 "metadata": {
  "kernelspec": {
   "display_name": "Python 3",
   "language": "python",
   "name": "python3"
  },
  "language_info": {
   "codemirror_mode": {
    "name": "ipython",
    "version": 3
   },
   "file_extension": ".py",
   "mimetype": "text/x-python",
   "name": "python",
   "nbconvert_exporter": "python",
   "pygments_lexer": "ipython3",
   "version": "3.6.1"
  }
 },
 "nbformat": 4,
 "nbformat_minor": 2
}
